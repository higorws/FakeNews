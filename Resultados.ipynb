{
 "cells": [
  {
   "cell_type": "code",
   "execution_count": 1,
   "metadata": {},
   "outputs": [],
   "source": [
    "import os, glob\n",
    "import pandas as pd\n",
    "import numpy as np"
   ]
  },
  {
   "cell_type": "markdown",
   "metadata": {},
   "source": [
    "# micro"
   ]
  },
  {
   "cell_type": "code",
   "execution_count": 3,
   "metadata": {},
   "outputs": [],
   "source": [
    "path = 'C:/Users/higor.silva/TCC/Resultados/K17/MicroK17/'\n",
    "micro = []\n",
    "for file in os.listdir(path):\n",
    "    with open(os.path.join(path, file),'r', encoding='ISO-8859-1') as infile:\n",
    "        resultado = infile.read()\n",
    "    micro.append(resultado.strip('()').strip('{}'))"
   ]
  },
  {
   "cell_type": "code",
   "execution_count": 4,
   "metadata": {},
   "outputs": [],
   "source": [
    "df = pd.DataFrame(micro)\n",
    "df.to_csv('micro.csv', index=False, encoding='utf-8' )"
   ]
  },
  {
   "cell_type": "markdown",
   "metadata": {},
   "source": [
    "# macro"
   ]
  },
  {
   "cell_type": "code",
   "execution_count": 5,
   "metadata": {},
   "outputs": [],
   "source": [
    "path = 'C:/Users/higor.silva/TCC/Resultados/K17/MacroK17/'\n",
    "macro = []\n",
    "for file in os.listdir(path):\n",
    "    with open(os.path.join(path, file),'r', encoding='ISO-8859-1') as infile:\n",
    "        resultado = infile.read()\n",
    "    macro.append(resultado.strip('()').strip('{}'))"
   ]
  },
  {
   "cell_type": "code",
   "execution_count": 6,
   "metadata": {},
   "outputs": [],
   "source": [
    "df = pd.DataFrame(macro)\n",
    "df.to_csv('macro.csv', index=False, encoding='utf-8' )"
   ]
  },
  {
   "cell_type": "markdown",
   "metadata": {},
   "source": [
    "# cros"
   ]
  },
  {
   "cell_type": "code",
   "execution_count": 7,
   "metadata": {},
   "outputs": [],
   "source": [
    "path = 'C:/Users/higor.silva/TCC/Resultados/K17/Crosk17/'\n",
    "df = pd.DataFrame()\n",
    "cros = []\n",
    "for file in os.listdir(path):\n",
    "    with open(os.path.join(path, file),'r', encoding='ISO-8859-1') as infile:\n",
    "        resultado = infile.read()\n",
    "    cros.append(resultado.strip('()').strip('{}'))"
   ]
  },
  {
   "cell_type": "code",
   "execution_count": 8,
   "metadata": {},
   "outputs": [],
   "source": [
    "df = pd.DataFrame(cros)\n",
    "df.to_csv('cros.csv', index=False, encoding='utf-8' )"
   ]
  }
 ],
 "metadata": {
  "kernelspec": {
   "display_name": "Python 3",
   "language": "python",
   "name": "python3"
  },
  "language_info": {
   "codemirror_mode": {
    "name": "ipython",
    "version": 3
   },
   "file_extension": ".py",
   "mimetype": "text/x-python",
   "name": "python",
   "nbconvert_exporter": "python",
   "pygments_lexer": "ipython3",
   "version": "3.7.3"
  }
 },
 "nbformat": 4,
 "nbformat_minor": 2
}
