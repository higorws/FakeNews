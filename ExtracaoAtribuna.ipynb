{
 "cells": [
  {
   "cell_type": "markdown",
   "metadata": {},
   "source": [
    "# Extração Atribuna\n",
    "###### Extração dos PDF Atribuna dos dias 01/01/2018 até 31/12/2018 "
   ]
  },
  {
   "cell_type": "code",
   "execution_count": null,
   "metadata": {},
   "outputs": [],
   "source": [
    "import requests \n",
    "from PyPDF2 import PdfFileMerger\n",
    "import os\n",
    "import sys"
   ]
  },
  {
   "cell_type": "code",
   "execution_count": null,
   "metadata": {},
   "outputs": [],
   "source": [
    "urlBase = \"http://pdf.redetribuna.com.br/\"\n",
    "\n",
    "nomeMes = [\"janeiro\",\"fevereiro\", \"marco\", \"abril\",\"maio\",\"junho\",\"julho\",\"agosto\",\"setembro\", \"outubro\",\"novembro\", \"dezembro\"]\n",
    "dia = [\"01\",\"02\",\"03\",\"04\",\"05\",\"06\",\"07\",\"08\",\"09\",\"10\",\"11\",\"12\",\"13\",\"14\",\"15\",\"16\",\"17\",\"18\",\"19\",\"20\",\"21\",\"22\",\"33\",\"24\",\"25\",\"26\",\"27\",\"28\",\"29\",\"30\",\"31\"]\n",
    "mes = [\"01\",\"02\",\"03\",\"04\",\"05\",\"06\",\"07\",\"08\",\"09\",\"10\",\"11\",\"12\"]\n",
    "ano = \"2018\"\n",
    "anoAbre = \"18\"\n",
    "pag = [\"01\",\"02\",\"03\",\"04\",\"05\",\"06\",\"07\",\"08\",\"09\",\"10\",\"11\",\"12\",\"13\",\"14\",\"15\",\"16\",\"17\",\"18\",\"19\",\"20\",\"21\",\"22\",\"33\",\"24\",\"25\",\"26\",\"27\",\"28\",\"29\",\"30\",\"31\"]"
   ]
  },
  {
   "cell_type": "code",
   "execution_count": null,
   "metadata": {},
   "outputs": [],
   "source": [
    "def downloadPage(file_url, teste):\n",
    "    r = requests.get(file_url, stream = True)\n",
    "    with open(teste,\"wb\") as pdf: \n",
    "        for chunk in r.iter_content(chunk_size=1024):\n",
    "            if chunk:y\n",
    "                pdf.write(chunk)"
   ]
  },
  {
   "cell_type": "code",
   "execution_count": null,
   "metadata": {},
   "outputs": [],
   "source": [
    "scriptPath = sys.path[0]\n",
    "downloadPath = os.path.join(scriptPath,'C:/Users/higor.silva/Desktop/TCC/tribuna/')"
   ]
  },
  {
   "cell_type": "markdown",
   "metadata": {},
   "source": [
    "### estrutura do link\n",
    "#### http://pdf.redetribuna.com.br/2018/janeiro/03-01-2018/no03011801.pdf\n",
    "#### http://pdf.redetribuna.com.br/2019/janeiro/03-01-2019/no03011901.pdf"
   ]
  },
  {
   "cell_type": "code",
   "execution_count": null,
   "metadata": {},
   "outputs": [],
   "source": [
    "aux = 0\n",
    "for x in nomeMes:\n",
    "    for y in dia:\n",
    "        for z in pag:\n",
    "            link = urlBase+ano+\"/\" + str(x) +\"/\"+str(y)+\"-\"+str(mes[aux])+\"-\"+ano+\"/no\"+str(y)+str(mes[aux])+anoAbre+str(z)+\".pdf\"\n",
    "            nome = str(y) + mes[aux] + anoAbre +str(z) + \".pdf\"\n",
    "            downloadPage(link, downloadPath + nome)\n",
    "            #print(link)\n",
    "    aux+=1"
   ]
  }
 ],
 "metadata": {
  "kernelspec": {
   "display_name": "Python 3",
   "language": "python",
   "name": "python3"
  },
  "language_info": {
   "codemirror_mode": {
    "name": "ipython",
    "version": 3
   },
   "file_extension": ".py",
   "mimetype": "text/x-python",
   "name": "python",
   "nbconvert_exporter": "python",
   "pygments_lexer": "ipython3",
   "version": "3.7.3"
  }
 },
 "nbformat": 4,
 "nbformat_minor": 2
}
