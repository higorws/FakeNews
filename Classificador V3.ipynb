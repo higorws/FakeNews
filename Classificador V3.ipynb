{
 "cells": [
  {
   "cell_type": "code",
   "execution_count": null,
   "metadata": {},
   "outputs": [],
   "source": [
    "import os.path, random, shutil, tweepy, re, nltk, glob\n",
    "import pandas as pd\n",
    "import numpy as np\n",
    "from nltk.tokenize import word_tokenize as wt\n",
    "from autocorrect import spell\n",
    "from sklearn.feature_extraction.text import CountVectorizer, TfidfTransformer\n",
    "from sklearn.neighbors import KNeighborsClassifier\n",
    "from sklearn.model_selection import train_test_split\n",
    "from sklearn import metrics\n",
    "from sklearn.metrics import precision_recall_fscore_support\n",
    "from sklearn.model_selection import cross_validate, cross_val_predict\n",
    "from numba import jit, cuda "
   ]
  },
  {
   "cell_type": "code",
   "execution_count": null,
   "metadata": {},
   "outputs": [],
   "source": [
    "def cros(Knn,X,Y,name):\n",
    "    VAL = cross_validate(knn, X, Y, cv=10, return_train_score=True, scoring=['f1','precision','recall'])\n",
    "    save_path = 'C:/Users/higor.silva/TCC/Resultados/Cros/'\n",
    "    name_of_file = name\n",
    "    completeName = os.path.join(save_path, name_of_file+\".txt\")\n",
    "    file1 = open(completeName, \"w\")\n",
    "    file1.write(str(VAL))\n",
    "    file1.close()"
   ]
  },
  {
   "cell_type": "code",
   "execution_count": null,
   "metadata": {},
   "outputs": [],
   "source": [
    "def aval_model_macro(y_test,pred,name):\n",
    "    avl = precision_recall_fscore_support ( y_test,pred, average = 'macro' )\n",
    "    save_path = 'C:/Users/higor.silva/TCC/Resultados/Macro/'\n",
    "    name_of_file = name\n",
    "    completeName = os.path.join(save_path, name_of_file+\".txt\")\n",
    "    file1 = open(completeName, \"w\")\n",
    "    file1.write(str(avl))\n",
    "    file1.close()    "
   ]
  },
  {
   "cell_type": "code",
   "execution_count": null,
   "metadata": {},
   "outputs": [],
   "source": [
    "def aval_model_micro(y_test,pred,name):\n",
    "    avl2 = precision_recall_fscore_support ( y_test,pred, average = 'micro' )\n",
    "    save_path = 'C:/Users/higor.silva/TCC/Resultados/Micro/'\n",
    "    name_of_file = name\n",
    "    completeName = os.path.join(save_path, name_of_file+\".txt\")\n",
    "    file1 = open(completeName, \"w\")\n",
    "    file1.write(str(avl2))\n",
    "    file1.close()    "
   ]
  },
  {
   "cell_type": "code",
   "execution_count": null,
   "metadata": {},
   "outputs": [],
   "source": [
    "K=3\n",
    "while K <=17: \n",
    "    for j in range(30):\n",
    "        \n",
    "        files = glob.glob('C:/Users/higor.silva/TCC/base/true/*')\n",
    "        for f in files:\n",
    "            os.remove(f)\n",
    "        \n",
    "        source= \"C:/Users/higor.silva/TCC/base/txtTribuna\"\n",
    "        dest= \"C:/Users/higor.silva/TCC/base/true\"\n",
    "        no_of_files=2980\n",
    "\n",
    "        #print(\"%\"*25+\"{ Details Of Transfer }\"+\"%\"*25)\n",
    "        #print(\"\\n\\nList of Files Moved to %s :-\"%(dest))\n",
    "\n",
    "        for i in range(no_of_files):    \n",
    "            random_file=random.choice(os.listdir(source))\n",
    "            #print(\"%d} %s\"%(i+1,random_file))\n",
    "            source_file=\"%s\\%s\"%(source,random_file)\n",
    "            dest_file=dest    \n",
    "            shutil.copy(source_file,dest_file)\n",
    "\n",
    "        #print(\"\\n\\n\"+\"$\"*33+\"[ Files Moved Successfully ]\"+\"$\"*33)\n",
    "        \n",
    "        pasta = 'base'\n",
    "        labels = {'true': 1, 'fake': 0}\n",
    "        df = pd.DataFrame()\n",
    "        \n",
    "        for f in ('true', 'fake'):\n",
    "            path = os.path.join(pasta,f)\n",
    "            for file in os.listdir (path) :\n",
    "                with open(os.path.join(path, file),'r', encoding='ISO-8859-1') as infile:\n",
    "                    txt = infile.read()\n",
    "                df = df.append([[txt, labels[f]]],ignore_index=True)\n",
    "        df.columns = ['noticia', 'rotulo']\n",
    "        df.to_csv('noticias_data.csv', index=False, encoding='utf-8' )\n",
    "        \n",
    "        auth = tweepy.OAuthHandler('XXXXXXXXXXXXXXXXXX', 'XXXXXXXXXXXXXXXXXXXXXXXXXXXXXXXXXXXXX')\n",
    "        auth.set_access_token('XXXXXXXXXXXXXXXXXXXXXXXXXXXXXXXXXXXXXXXXX',\n",
    "                'XXXXXXXXXXXXXXXXXXXXXXXXXXXXXXXXXXXXXXXXXXXXXXXXXXXXXXXXXXXXXXXX')\n",
    "        api = tweepy.API(auth)\n",
    "        \n",
    "\n",
    "        def obter_tweets(usuario, limite=10):\n",
    "            resultados = api.user_timeline(screen_name=usuario, count=limite, tweet_mode='extended')\n",
    "            tweets = [] \n",
    "            for r in resultados:\n",
    "                tweet = re.sub(r'http\\S+', '', r.full_text)\n",
    "                tweets.append(tweet.replace('\\n', ' ')) \n",
    "            return tweets \n",
    "        \n",
    "        tweets2 = obter_tweets(usuario='@GuilhermeBoulos', limite=15)\n",
    "        df2 = pd.DataFrame(tweets2)\n",
    "        df2.columns = ['noticia']\n",
    "        frames = pd.concat([df, df2],ignore_index=True, sort = False)\n",
    "        frames = frames.replace(np.nan, 0)\n",
    "        #frames\n",
    "        \n",
    "        stemmer = nltk.stem.RSLPStemmer()\n",
    "        arq_stopwords = open(\"ListaStopWords.txt\", \"r\", encoding='utf-8')\n",
    "        stopwords = arq_stopwords.read()\n",
    "        #print(stopwords)\n",
    "        \n",
    "        \n",
    "        def aplicastemmer(texto):    \n",
    "            frases_processed = []    \n",
    "            for palavra in texto:\n",
    "                comstemming = [str(stemmer.stem(p)) for p in palavra.split() if p not in stopwords]\n",
    "                frases_processed.append(comstemming)            \n",
    "            return frases_processed\n",
    "        \n",
    "        noticiario = frames['noticia'].str.lower()\n",
    "        noticia = aplicastemmer(noticiario)\n",
    "        \n",
    "        matrix = CountVectorizer(tokenizer=lambda doc: doc, lowercase=False)\n",
    "\n",
    "        X = matrix.fit_transform(noticia).toarray()\n",
    "        Y = frames['rotulo']\n",
    "        \n",
    "        knn = KNeighborsClassifier(metric = 'cosine', n_neighbors=K)\n",
    "        x_train, x_test, y_train, y_test = train_test_split(X,Y,test_size=0.25)\n",
    "        \n",
    "        knn.fit(x_train,y_train)      \n",
    "        pred = knn.predict(x_test)\n",
    "        \n",
    "        name = 'K'+str(K)+'J'+str(j)\n",
    "        \n",
    "        aval_model_micro(y_test,pred,str(name))\n",
    "        aval_model_macro(y_test,pred,str(name))\n",
    "        cros(knn,X,Y,str(name))\n",
    "        \n",
    "    K = K+2"
   ]
  },
  {
   "cell_type": "code",
   "execution_count": null,
   "metadata": {},
   "outputs": [],
   "source": [
    "#res = np.array(resultados)"
   ]
  },
  {
   "cell_type": "code",
   "execution_count": null,
   "metadata": {},
   "outputs": [],
   "source": [
    "#print(resultados_macro)"
   ]
  },
  {
   "cell_type": "code",
   "execution_count": null,
   "metadata": {},
   "outputs": [],
   "source": [
    "#print(resultados_micro)"
   ]
  },
  {
   "cell_type": "code",
   "execution_count": null,
   "metadata": {},
   "outputs": [],
   "source": [
    "#print(cros)"
   ]
  },
  {
   "cell_type": "code",
   "execution_count": null,
   "metadata": {},
   "outputs": [],
   "source": [
    "#res = np.delete(res, 3, 1)"
   ]
  },
  {
   "cell_type": "code",
   "execution_count": null,
   "metadata": {},
   "outputs": [],
   "source": [
    "#res"
   ]
  },
  {
   "cell_type": "code",
   "execution_count": null,
   "metadata": {},
   "outputs": [],
   "source": [
    "#soma = np.sum(res, axis=0)"
   ]
  }
 ],
 "metadata": {
  "kernelspec": {
   "display_name": "Python 3",
   "language": "python",
   "name": "python3"
  },
  "language_info": {
   "codemirror_mode": {
    "name": "ipython",
    "version": 3
   },
   "file_extension": ".py",
   "mimetype": "text/x-python",
   "name": "python",
   "nbconvert_exporter": "python",
   "pygments_lexer": "ipython3",
   "version": "3.7.3"
  }
 },
 "nbformat": 4,
 "nbformat_minor": 2
}
